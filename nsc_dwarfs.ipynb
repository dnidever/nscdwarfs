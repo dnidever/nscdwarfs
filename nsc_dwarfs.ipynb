{
 "cells": [
  {
   "cell_type": "code",
   "execution_count": 1,
   "metadata": {
    "collapsed": true
   },
   "outputs": [],
   "source": [
    "__author__ = 'David Nidever <dnidever@noao.edu>, Knut Olsen <kolsen@noao.edu>, Robert Nikutta <rnikutta@noao.edu>, Stephanie Juneau <sjuneau@noao.edu>' # single string; emails in <>\n",
    "__version__ = '20180105' # yyyymmdd; version datestamp of this notebook\n",
    "__datasets__ = ['nsc_dr1']  # enter used datasets by hand"
   ]
  },
  {
   "cell_type": "markdown",
   "metadata": {},
   "source": [
    "# Dwarf galaxies in NSC DR1\n",
    "Find dwarf galaxies in the NSC"
   ]
  },
  {
   "cell_type": "markdown",
   "metadata": {},
   "source": [
    "<a class=\"anchor\" id=\"import\"></a>\n",
    "# Imports and setup"
   ]
  },
  {
   "cell_type": "code",
   "execution_count": 1,
   "metadata": {
    "collapsed": false
   },
   "outputs": [],
   "source": [
    "# Python 2/3 compatibility\n",
    "from __future__ import print_function # to use print() as a function in Python 2\n",
    "\n",
    "try:\n",
    "    input = raw_input # use 'input' function in both Python 2 and 3\n",
    "except NameError:\n",
    "    pass\n",
    "\n",
    "# std lib\n",
    "from getpass import getpass\n",
    "\n",
    "# 3rd party\n",
    "import pandas as pd\n",
    "import numpy as np\n",
    "import pylab as plt\n",
    "import matplotlib\n",
    "from astropy import utils, io, convolution, stats, wcs\n",
    "from astropy.visualization import make_lupton_rgb\n",
    "from astropy import units as u\n",
    "from astropy.stats import median_absolute_deviation as mad\n",
    "%matplotlib inline\n",
    "import healpy as hp\n",
    "from photutils import find_peaks\n",
    "\n",
    "# Data Lab\n",
    "from dl import authClient as ac, queryClient as qc, storeClient as sc, helpers\n",
    "\n",
    "#Simple Image Access (SIA) service\n",
    "from pyvo.dal import sia\n",
    "DEF_ACCESS_URL = \"http://datalab.noao.edu/sia\"\n",
    "svc = sia.SIAService(DEF_ACCESS_URL)\n",
    "\n",
    "# Quiet the Astropy warnings\n",
    "import warnings\n",
    "from astropy.utils.exceptions import AstropyWarning\n",
    "warnings.simplefilter('ignore', category=AstropyWarning)"
   ]
  },
  {
   "cell_type": "markdown",
   "metadata": {},
   "source": [
    "<a class=\"anchor\" id=\"auth\"></a>\n",
    "# Authentication"
   ]
  },
  {
   "cell_type": "code",
   "execution_count": 2,
   "metadata": {
    "collapsed": true
   },
   "outputs": [],
   "source": [
    "# Either get token for anonymous user\n",
    "token = ac.login('anonymous')\n",
    "\n",
    "# Authenticated users please uncomment the next line\n",
    "#token = ac.login(input(\"Enter user name: \"),getpass(\"Enter password: \"))"
   ]
  },
  {
   "cell_type": "code",
   "execution_count": 3,
   "metadata": {
    "collapsed": true
   },
   "outputs": [],
   "source": [
    "# A function to retrieve data from a point on the sky\n",
    "def getData (ra,dec,radius=1.0,columns='*'):\n",
    "\n",
    "    query_template = \\\n",
    "    \"\"\"SELECT {0:s} FROM nsc_dr1.object\n",
    "       WHERE q3c_radial_query(ra,dec,{1:f},{2:f},{3:f})\"\"\"\n",
    "\n",
    "    query = query_template.format(columns,ra,dec,radius)\n",
    "    print(query)\n",
    "    \n",
    "    try:\n",
    "        result = qc.query(token,sql=query) # by default the result is a CSV formatted string\n",
    "    except Exception as e:\n",
    "        print(e.message)\n",
    "        \n",
    "    df = helpers.convert(result,'pandas')\n",
    "    \n",
    "    return df"
   ]
  },
  {
   "cell_type": "code",
   "execution_count": 4,
   "metadata": {
    "collapsed": false
   },
   "outputs": [],
   "source": [
    "# A function to retrieve data from a point on the sky\n",
    "def getBlueStarData (ra,dec,radius=1.0,columns='ra,dec,gmag,rmag',colcutlo=None,colcuthi=None,classcut=None,fwhmcut=None,errcut=None):\n",
    "\n",
    "    query_template = \\\n",
    "    \"\"\"SELECT {0:s} FROM nsc_dr1.object\n",
    "       WHERE q3c_radial_query(ra,dec,{1:f},{2:f},{3:f})\"\"\"\n",
    "    #   (gmag-rmag)>({4:f}) and (gmag-rmag)<{5:f} and class_star>{6:f} and\n",
    "    #   fwhm<{7:f} and gerr<{8:f} and rerr<{8:f}\n",
    "\n",
    "    query = query_template.format(columns,ra,dec,radius,colcutlo,colcuthi,classcut,fwhmcut,errcut)\n",
    "    if colcutlo is not None: query+=\" and (gmag-rmag)>(\"+\"{0:f}\".format(colcutlo)+\")\"\n",
    "    if colcuthi is not None: query+=\" and (gmag-rmag)<\"+\"{0:f}\".format(colcuthi)\n",
    "    if classcut is not None: query+=\" and class_star>\"+\"{0:f}\".format(classcut)\n",
    "    if fwhmcut is not None: query+=\" and fwhm<\"+\"{0:f}\".format(fwhmcut)\n",
    "    if errcut is not None: query+=\" and gerr<\"+\"{0:f}\".format(errcut)\n",
    "    if errcut is not None: query+=\" and rerr<\"+\"{0:f}\".format(errcut)\n",
    "    print(query)\n",
    "    \n",
    "    try:\n",
    "        result = qc.query(token,sql=query) # by default the result is a CSV formatted string\n",
    "    except Exception as e:\n",
    "        print(e.message)\n",
    "        \n",
    "    df = helpers.convert(result,'pandas')\n",
    "    \n",
    "    return df"
   ]
  },
  {
   "cell_type": "code",
   "execution_count": 5,
   "metadata": {
    "collapsed": true
   },
   "outputs": [],
   "source": [
    "# A function to retrieve data from a point on the sky\n",
    "def getCovData (ra,dec,radius=1.0,columns='*'):\n",
    "\n",
    "    query_template = \\\n",
    "    \"\"\"SELECT {0:s} FROM nsc_dr1.coverage\n",
    "       WHERE q3c_radial_query(ra,dec,{1:f},{2:f},{3:f})\"\"\"\n",
    "\n",
    "    query = query_template.format(columns,ra,dec,radius)\n",
    "    print(query)\n",
    "    \n",
    "    try:\n",
    "        result = qc.query(token,sql=query) # by default the result is a CSV formatted string\n",
    "    except Exception as e:\n",
    "        print(e.message)\n",
    "        \n",
    "    df = helpers.convert(result,'pandas')\n",
    "    \n",
    "    return df"
   ]
  },
  {
   "cell_type": "code",
   "execution_count": 6,
   "metadata": {
    "collapsed": true
   },
   "outputs": [],
   "source": [
    "# A Mexican-hat convolution filter\n",
    "def dwarf_filter (ra,dec,fwhm_small=2.0,fwhm_big=20):\n",
    "\n",
    "    # Based on Koposov et al. (2008).\n",
    "    # Code by Ken Mighell and Mike Fitzpatrick.\n",
    "    # Minor edits by Rorbert Nikutta.\n",
    "    \n",
    "    x, y = ra, dec\n",
    "\n",
    "    # Information about declination (y) [degrees]\n",
    "    ymean = (y.min() + y.max()) / 2.0\n",
    "    ydiff_arcmin = (y.max() - y.min()) * 60.0 # convert from degrees to arcmin\n",
    "\n",
    "    # Information about right ascension (x) [degrees in time]:\n",
    "    xdiff = x.max() - x.min() # angular separation [degrees (time)] \n",
    "    xmean = (x.min() + x.max())/2.0\n",
    "\n",
    "    # convert from degrees in time to separation in angular degrees:\n",
    "    xdiff_angular = (x.max() - x.min()) * np.cos(ymean*(np.pi/180.0))\n",
    "\n",
    "    # convert from degress to arcmin\n",
    "    xdiff_angular_arcmin = xdiff_angular * 60.0 \n",
    "\n",
    "    # Get the number of one-arcmin pixels in the X and Y directions:\n",
    "    nx = np.rint (xdiff_angular_arcmin).astype('int')\n",
    "    ny = np.rint (ydiff_arcmin).astype('int')\n",
    "    \n",
    "    # Create a two-dimensional histogram of the raw counts:\n",
    "    Counts, xedges, yedges  = np.histogram2d (x, y, (nx,ny) )\n",
    "    extent = [xedges[0], xedges[-1], yedges[0], yedges[-1]]\n",
    "    raw_hist = np.rot90(Counts).copy() # hack around Pythonic weirdness\n",
    "\n",
    "    # Make the small and big Gaussian kernels with a standard deviation\n",
    "    # of the given FWHM in arcmin^2 pixels.\n",
    "    kernel_small = convolution.Gaussian2DKernel(fwhm_small/2.35,factor=1)\n",
    "    kernel_big = convolution.Gaussian2DKernel(fwhm_big/2.35,factor=1)\n",
    "\n",
    "    # Compute the differential convolution kernels.\n",
    "    conv_big = convolution.convolve (raw_hist, kernel_big)\n",
    "    conv_small = convolution.convolve (raw_hist, kernel_small)\n",
    "    conv_delta = conv_small - conv_big\n",
    "    delta = conv_delta.copy()\n",
    "\n",
    "    # Compute statistics and the floor\n",
    "    mean = np.mean (delta, dtype='float64')\n",
    "    sigma = np.std (delta, dtype='float64')\n",
    "    sigmaRaw = np.std(raw_hist,dtype='float64')\n",
    "    median = np.median (delta)                       # not used\n",
    "    floor = mean \n",
    "\n",
    "    # Clip to specified limits.\n",
    "    clipped = delta.copy()\n",
    "    clipped[ delta < floor ] = floor\n",
    "\n",
    "    # Return the computed fields.\n",
    "    return raw_hist, extent, delta, clipped, sigma"
   ]
  },
  {
   "cell_type": "code",
   "execution_count": 7,
   "metadata": {
    "collapsed": true
   },
   "outputs": [],
   "source": [
    "# A little function to download the deepest stacked images\n",
    "#   adapted from R. Nikutta\n",
    "def download_deepest_image(ra,dec,fov=0.1,band='g'):\n",
    "    imgTable = svc.search((ra,dec), (fov/np.cos(dec*np.pi/180), fov), verbosity=2).votable.to_table()\n",
    "    print(\"The full image list contains\", len(imgTable), \"entries\")\n",
    "    \n",
    "    sel0 = imgTable['obs_bandpass'].astype(str)==band\n",
    "    sel = sel0 & ((imgTable['proctype'].astype(str)=='Stacked') & (imgTable['prodtype'].astype(str)=='image')) # basic selection\n",
    "    Table = imgTable[sel] # select\n",
    "    if (len(Table)>0):\n",
    "        row = Table[np.argmax(Table['exptime'].data.data.astype('float'))] # pick image with longest exposure time\n",
    "        url = row['access_url'].decode() # get the download URL\n",
    "        print ('downloading deepest image...')\n",
    "        image = io.fits.getdata(utils.data.download_file(url,cache=True,show_progress=False,timeout=120))\n",
    "\n",
    "    else:\n",
    "        print ('No image available.')\n",
    "        image=None\n",
    "        \n",
    "    return image"
   ]
  },
  {
   "cell_type": "code",
   "execution_count": 8,
   "metadata": {
    "collapsed": false
   },
   "outputs": [],
   "source": [
    "# Multi panel image plotter\n",
    "def plot_images(images,geo=None,panelsize=4,bands=list('gri'),cmap=matplotlib.cm.gray_r):\n",
    "    n = len(images)\n",
    "    if geo is None: geo = (n,1)\n",
    "        \n",
    "    fig = plt.figure(figsize=(geo[0]*panelsize,geo[1]*panelsize))\n",
    "    for j,img in enumerate(images):\n",
    "        ax = fig.add_subplot(geo[1],geo[0],j+1)\n",
    "        if img is not None:\n",
    "            print(img.min(),img.max())\n",
    "            vmin = np.median(img)-2*np.std(img)\n",
    "            vmax = np.median(img)+2*np.std(img)\n",
    "            ax.imshow(img,origin='lower',interpolation='none',cmap=cmap,norm=matplotlib.colors.LogNorm(vmin=vmin, vmax=vmax))\n",
    "            ax.set_title('%s band' % bands[j])\n",
    "            ax.xaxis.set_visible(False)\n",
    "            ax.yaxis.set_visible(False)"
   ]
  },
  {
   "cell_type": "markdown",
   "metadata": {},
   "source": [
    "<a class=\"anchor\" id=\"chapter1\"></a>\n",
    "# Step 1 - Pull the data from NSC object table"
   ]
  },
  {
   "cell_type": "code",
   "execution_count": 9,
   "metadata": {
    "collapsed": true
   },
   "outputs": [],
   "source": [
    "# Locations of Dwarfs from McConnachie et al. (2012), Bechtol et al. (2015) and others\n",
    "#ra = [86.4,260.1,185.43,56.09]\n",
    "#dec = [34.7,-22.2,-31.99,-43.53]\n",
    "#name = ['Draco','Carina','Hya II','Eri II']\n",
    "#radius = 0.85 # degrees\n",
    "#columns = '''ra,dec,gmag,gerr,imag,rmag,zmag,class_star,fwhm'''\n",
    "#df_dict = {dwarf: pd.DataFrame() for dwarf in name}\n",
    "#ra0 = 86.4\n",
    "#dec0 = 34.7\n",
    "#ra0 = 260.1\n",
    "#dec0 = -22.2\n",
    "ra0 = 185.43\n",
    "dec0 = -31.99\n",
    "radius = 1.0"
   ]
  },
  {
   "cell_type": "code",
   "execution_count": 10,
   "metadata": {
    "collapsed": false
   },
   "outputs": [
    {
     "name": "stdout",
     "output_type": "stream",
     "text": [
      "SELECT ra,dec,gmag,rmag FROM nsc_dr1.object\n",
      "       WHERE q3c_radial_query(ra,dec,185.430000,-31.990000,1.000000) and (gmag-rmag)>(-0.200000) and (gmag-rmag)<0.800000 and class_star>0.600000 and fwhm<1.500000 and gerr<0.100000 and rerr<0.100000\n",
      "Returning Pandas dataframe\n",
      "22757 objects found\n"
     ]
    }
   ],
   "source": [
    "#df0 = getData(ra0,dec0,radius=0.01)\n",
    "#print(str(len(df0))+' objects found')\n",
    "df = getBlueStarData(ra0,dec0,radius=radius,colcutlo=-0.2,colcuthi=0.8,classcut=0.6,fwhmcut=1.5,errcut=0.1)\n",
    "print(str(len(df))+' objects found')"
   ]
  },
  {
   "cell_type": "code",
   "execution_count": 11,
   "metadata": {
    "collapsed": false
   },
   "outputs": [
    {
     "name": "stdout",
     "output_type": "stream",
     "text": [
      "SELECT ra,dec,pix,pix128,gcoverage,gdepth,rcoverage,rdepth FROM nsc_dr1.coverage\n",
      "       WHERE q3c_radial_query(ra,dec,185.430000,-31.990000,1.000000)\n",
      "Returning Pandas dataframe\n",
      "15340 coverage pixels returned\n"
     ]
    }
   ],
   "source": [
    "# Get coverage information\n",
    "cov = getCovData(ra0,dec0,radius=radius,columns='ra,dec,pix,pix128,gcoverage,gdepth,rcoverage,rdepth')\n",
    "print(str(len(cov))+' coverage pixels returned')"
   ]
  },
  {
   "cell_type": "markdown",
   "metadata": {},
   "source": [
    "# Step 2 - Make density map\n",
    "We convolve the result with the spatial filter defined above."
   ]
  },
  {
   "cell_type": "code",
   "execution_count": 12,
   "metadata": {
    "collapsed": true
   },
   "outputs": [],
   "source": [
    "# Create a WCS for a tangent plane projection in our region\n",
    "def get_wcs(ra,dec,image,fov=1.,unit='deg',projection=(\"RA---TAN\",\"DEC--TAN\")):\n",
    "    npix = image.shape[0]\n",
    "    crpix = npix/2 + 1\n",
    "    cdelt = fov/float(npix)\n",
    "    w = wcs.WCS(naxis=2)\n",
    "    w.wcs.cunit = (unit,unit)\n",
    "    w.wcs.crpix = (crpix,crpix)\n",
    "    w.wcs.cdelt = np.array((-cdelt,cdelt))\n",
    "    w.wcs.ctype = projection\n",
    "    w.wcs.crval = (ra,dec) #coords.ra.to(unit).value, coords.dec.to(unit).value)\n",
    "    return w"
   ]
  },
  {
   "cell_type": "code",
   "execution_count": 13,
   "metadata": {
    "collapsed": false
   },
   "outputs": [],
   "source": [
    "# Create the healpix map\n",
    "NSIDE = 1024  #4096\n",
    "#map = np.zeros(hp.nside2npix(NSIDE),dtype='float')\n",
    "#map[:] = hp.UNSEEN   # all unseen/masked to start\n",
    "map = hp.ma(np.zeros(hp.nside2npix(NSIDE),dtype='float'))\n",
    "map.mask = True\n",
    "map[:] = hp.UNSEEN\n",
    "objpix = hp.pixelfunc.ang2pix(NSIDE,df['ra'],df['dec'],lonlat=True)"
   ]
  },
  {
   "cell_type": "code",
   "execution_count": 14,
   "metadata": {
    "collapsed": false
   },
   "outputs": [],
   "source": [
    "# Make healpix density map\n",
    "npix = hp.nside2npix(NSIDE)\n",
    "hist,bin_edges = np.histogram(objpix,bins=npix,range=[0,npix-1])\n",
    "ind, = np.where(hist > 0)\n",
    "map[ind] = hist[ind]\n",
    "map[ind].mask = False"
   ]
  },
  {
   "cell_type": "code",
   "execution_count": 16,
   "metadata": {
    "collapsed": true
   },
   "outputs": [],
   "source": [
    "# Downgrade the coverage map resolution\n",
    "#gcov_map2 = hp.pixelfunc.ud_grade(gcov_map,1024)\n",
    "#rcov_map2 = hp.pixelfunc.ud_grade(rcov_map,1024)"
   ]
  },
  {
   "cell_type": "code",
   "execution_count": 214,
   "metadata": {
    "collapsed": false
   },
   "outputs": [
    {
     "name": "stdout",
     "output_type": "stream",
     "text": [
      "Sigma is 8.493211 arcmin (0.002471 rad) \n",
      "-> fwhm is 19.999983 arcmin\n",
      "Sigma is 0.000000 arcmin (0.000000 rad) \n",
      "-> fwhm is 0.000000 arcmin\n",
      "Sigma is 50.959265 arcmin (0.014823 rad) \n",
      "-> fwhm is 119.999899 arcmin\n",
      "Sigma is 0.000000 arcmin (0.000000 rad) \n",
      "-> fwhm is 0.000000 arcmin\n",
      "CPU times: user 3.88 s, sys: 142 ms, total: 4.02 s\n",
      "Wall time: 4.03 s\n"
     ]
    }
   ],
   "source": [
    "#%%time\n",
    "## 20 and 2 arcmin\n",
    "#smap1 = hp.sphtfunc.smoothing(map,fwhm=(20./60.)*(3.14159/180.),iter=1,lmax=2*NSIDE)\n",
    "#bmap1 = hp.sphtfunc.smoothing(map,fwhm=(120./60.)*(3.14159/180.),iter=1,lmax=2*NSIDE)\n",
    "#smmap1 = smap1-bmap1\n",
    "##smmap2 = hp.sphtfunc.smoothing(map2,fwhm=(20./60.)*(3.14159/180.))"
   ]
  },
  {
   "cell_type": "code",
   "execution_count": 24,
   "metadata": {
    "collapsed": false
   },
   "outputs": [
    {
     "name": "stdout",
     "output_type": "stream",
     "text": [
      "CPU times: user 165 ms, sys: 25.2 ms, total: 190 ms\n",
      "Wall time: 194 ms\n"
     ]
    }
   ],
   "source": [
    "%%time\n",
    "small_k, big_k = 2., 20.  # kernel sizes in arcminutes\n",
    "raw, extent, delta, clipped, dsigma = dwarf_filter(df['ra'],df['dec'],fwhm_small=small_k,fwhm_big=big_k)"
   ]
  },
  {
   "cell_type": "code",
   "execution_count": 33,
   "metadata": {
    "collapsed": false
   },
   "outputs": [
    {
     "data": {
      "image/png": "[encoded data removed]",
      "text/plain": [
       "<matplotlib.figure.Figure at 0x11159ecd0>"
      ]
     },
     "metadata": {},
     "output_type": "display_data"
    }
   ],
   "source": [
    "fig, ax = plt.subplots(figsize=(8,8))\n",
    "im = plt.imshow(clipped)\n",
    "plt.xlabel('pixel')\n",
    "plt.ylabel('pixel')\n",
    "plt.colorbar(label='relative spatial density after convolution');"
   ]
  },
  {
   "cell_type": "markdown",
   "metadata": {},
   "source": [
    "# Step 3 - Run Peak Finder\n",
    "Find the statistically significant peaks"
   ]
  },
  {
   "cell_type": "code",
   "execution_count": 34,
   "metadata": {
    "collapsed": false
   },
   "outputs": [
    {
     "name": "stdout",
     "output_type": "stream",
     "text": [
      "x_peak y_peak   peak_value        ra           dec      \n",
      "------ ------ ------------- ------------- --------------\n",
      "    59     59 3.69850998804 185.410454081 -31.9882957569\n"
     ]
    }
   ],
   "source": [
    "# find peaks\n",
    "small_k = 2.0\n",
    "mn, med, std = stats.sigma_clipped_stats(clipped,sigma=3.0,iters=5)    \n",
    "tbl = find_peaks(clipped,med+3,box_size=small_k*2)\n",
    "\n",
    "# add ra & dec positions of peaks found\n",
    "a, b = extent[:2]\n",
    "xvec = np.arange(a,b,(b-a)/clipped.shape[1])\n",
    "a, b = extent[2:]\n",
    "yvec = np.arange(a,b,(b-a)/clipped.shape[0])\n",
    "\n",
    "tbl['ra'] = xvec[tbl['x_peak']]\n",
    "tbl['dec'] = yvec[-tbl['y_peak']-1]\n",
    "print(tbl)"
   ]
  },
  {
   "cell_type": "code",
   "execution_count": 35,
   "metadata": {
    "collapsed": false
   },
   "outputs": [
    {
     "data": {
      "image/png": "[encoded data removed]",
      "text/plain": [
       "<matplotlib.figure.Figure at 0x11159ecd0>"
      ]
     },
     "execution_count": 35,
     "metadata": {},
     "output_type": "execute_result"
    }
   ],
   "source": [
    "ecs = ['w','y'] # colors of box frames\n",
    "ax.scatter(tbl['x_peak'],tbl['y_peak'],marker='s',s=tbl['peak_value']*40,c='none',edgecolors=ecs,lw=3) # keeps writing to previous ax\n",
    "fig  # repeats (the updated) figure"
   ]
  },
  {
   "cell_type": "markdown",
   "metadata": {},
   "source": [
    "# Download data to make CMD"
   ]
  },
  {
   "cell_type": "code",
   "execution_count": 38,
   "metadata": {
    "collapsed": false
   },
   "outputs": [
    {
     "name": "stdout",
     "output_type": "stream",
     "text": [
      "SELECT ra,dec,gmag,rmag FROM nsc_dr1.object\n",
      "       WHERE q3c_radial_query(ra,dec,185.410454,-31.988296,0.100000) and class_star>0.600000 and fwhm<1.500000\n",
      "Returning Pandas dataframe\n",
      "1350 objects found\n"
     ]
    }
   ],
   "source": [
    "# Convert X/Y to RA/DEC\n",
    "tbl0 = tbl[0]\n",
    "df = getBlueStarData(tbl0['ra'],tbl0['dec'],radius=0.1,classcut=0.6,fwhmcut=1.5)\n",
    "print(str(len(df))+' objects found')"
   ]
  },
  {
   "cell_type": "code",
   "execution_count": 39,
   "metadata": {
    "collapsed": true
   },
   "outputs": [],
   "source": [
    "def plotpanel(axid,x,y,title='',xlim=(-1,2),ylim=(25.2,14)):\n",
    "    ax = fig.add_subplot(axid)\n",
    "    ax.scatter(x,y,marker='.',s=10, alpha=0.8)\n",
    "    ax.set_xlabel(x.name)\n",
    "    ax.set_ylabel(y.name)\n",
    "    ax.set_xlim(xlim)\n",
    "    ax.set_ylim(ylim)\n",
    "    ax.set_title(title)"
   ]
  },
  {
   "cell_type": "code",
   "execution_count": null,
   "metadata": {
    "collapsed": true
   },
   "outputs": [],
   "source": []
  }
 ],
 "metadata": {
  "kernelspec": {
   "display_name": "Python 2",
   "language": "python",
   "name": "python2"
  },
  "language_info": {
   "codemirror_mode": {
    "name": "ipython",
    "version": 2
   },
   "file_extension": ".py",
   "mimetype": "text/x-python",
   "name": "python",
   "nbconvert_exporter": "python",
   "pygments_lexer": "ipython2",
   "version": "2.7.13"
  }
 },
 "nbformat": 4,
 "nbformat_minor": 2
}
