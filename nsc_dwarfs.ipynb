{
 "cells": [
  {
   "cell_type": "code",
   "execution_count": 1,
   "metadata": {
    "collapsed": true
   },
   "outputs": [],
   "source": [
    "__author__ = 'David Nidever <dnidever@noao.edu>, Knut Olsen <kolsen@noao.edu>, Robert Nikutta <rnikutta@noao.edu>, Stephanie Juneau <sjuneau@noao.edu>' # single string; emails in <>\n",
    "__version__ = '20180105' # yyyymmdd; version datestamp of this notebook\n",
    "__datasets__ = ['nsc_dr1']  # enter used datasets by hand"
   ]
  },
  {
   "cell_type": "markdown",
   "metadata": {},
   "source": [
    "# Dwarf galaxies in NSC DR1\n",
    "Find dwarf galaxies in the NSC"
   ]
  },
  {
   "cell_type": "markdown",
   "metadata": {},
   "source": [
    "<a class=\"anchor\" id=\"import\"></a>\n",
    "# Imports and setup"
   ]
  },
  {
   "cell_type": "code",
   "execution_count": 1,
   "metadata": {
    "collapsed": false
   },
   "outputs": [],
   "source": [
    "# Python 2/3 compatibility\n",
    "from __future__ import print_function # to use print() as a function in Python 2\n",
    "\n",
    "try:\n",
    "    input = raw_input # use 'input' function in both Python 2 and 3\n",
    "except NameError:\n",
    "    pass\n",
    "\n",
    "# std lib\n",
    "from getpass import getpass\n",
    "\n",
    "# 3rd party\n",
    "import pandas as pd\n",
    "import numpy as np\n",
    "import pylab as plt\n",
    "import matplotlib\n",
    "from astropy import utils, io, convolution, stats, wcs\n",
    "from astropy.visualization import make_lupton_rgb\n",
    "from astropy import units as u\n",
    "from astropy.stats import median_absolute_deviation as mad\n",
    "%matplotlib inline\n",
    "\n",
    "# Data Lab\n",
    "from dl import authClient as ac, queryClient as qc, storeClient as sc, helpers\n",
    "\n",
    "#Simple Image Access (SIA) service\n",
    "from pyvo.dal import sia\n",
    "DEF_ACCESS_URL = \"http://datalab.noao.edu/sia\"\n",
    "svc = sia.SIAService(DEF_ACCESS_URL)\n",
    "\n",
    "# Quiet the Astropy warnings\n",
    "import warnings\n",
    "from astropy.utils.exceptions import AstropyWarning\n",
    "warnings.simplefilter('ignore', category=AstropyWarning)"
   ]
  },
  {
   "cell_type": "markdown",
   "metadata": {},
   "source": [
    "<a class=\"anchor\" id=\"auth\"></a>\n",
    "# Authentication"
   ]
  },
  {
   "cell_type": "code",
   "execution_count": 30,
   "metadata": {
    "collapsed": true
   },
   "outputs": [],
   "source": [
    "# Either get token for anonymous user\n",
    "token = ac.login('anonymous')\n",
    "\n",
    "# Authenticated users please uncomment the next line\n",
    "#token = ac.login(input(\"Enter user name: \"),getpass(\"Enter password: \"))"
   ]
  },
  {
   "cell_type": "code",
   "execution_count": 31,
   "metadata": {
    "collapsed": true
   },
   "outputs": [],
   "source": [
    "# A function to retrieve data from a point on the sky\n",
    "def getData (ra,dec,radius=1.0,columns='*'):\n",
    "\n",
    "    query_template = \\\n",
    "    \"\"\"SELECT {0:s} FROM nsc_dr1.object\n",
    "       WHERE q3c_radial_query(ra,dec,{1:f},{2:f},{3:f})\"\"\"\n",
    "\n",
    "    query = query_template.format(columns,ra,dec,radius)\n",
    "    print(query)\n",
    "    \n",
    "    try:\n",
    "        result = qc.query(token,sql=query) # by default the result is a CSV formatted string\n",
    "    except Exception as e:\n",
    "        print(e.message)\n",
    "        \n",
    "    df = helpers.convert(result,'pandas')\n",
    "    \n",
    "    return df"
   ]
  },
  {
   "cell_type": "code",
   "execution_count": 83,
   "metadata": {
    "collapsed": false
   },
   "outputs": [],
   "source": [
    "# A function to retrieve data from a point on the sky\n",
    "def getBlueStarData (ra,dec,radius=1.0,columns='ra,dec,gmag,rmag',colcutlo=None,colcuthi=None,classcut=None,fwhmcut=None,errcut=None):\n",
    "\n",
    "    query_template = \\\n",
    "    \"\"\"SELECT {0:s} FROM nsc_dr1.object\n",
    "       WHERE q3c_radial_query(ra,dec,{1:f},{2:f},{3:f})\"\"\"\n",
    "    #   (gmag-rmag)>({4:f}) and (gmag-rmag)<{5:f} and class_star>{6:f} and\n",
    "    #   fwhm<{7:f} and gerr<{8:f} and rerr<{8:f}\n",
    "\n",
    "    query = query_template.format(columns,ra,dec,radius,colcutlo,colcuthi,classcut,fwhmcut,errcut)\n",
    "    if colcutlo is not None: query+=\" and (gmag-rmag)>(\"+\"{0:f}\".format(colcutlo)+\")\"\n",
    "    if colcuthi is not None: query+=\" and (gmag-rmag)<\"+\"{0:f}\".format(colcuthi)\n",
    "    if classcut is not None: query+=\" and class_star>\"+\"{0:f}\".format(classcut)\n",
    "    if fwhmcut is not None: query+=\" and fwhm<\"+\"{0:f}\".format(fwhmcut)\n",
    "    if errcut is not None: query+=\" and gerr<\"+\"{0:f}\".format(errcut)\n",
    "    if errcut is not None: query+=\" and rerr<\"+\"{0:f}\".format(errcut)\n",
    "    print(query)\n",
    "    \n",
    "    try:\n",
    "        result = qc.query(token,sql=query) # by default the result is a CSV formatted string\n",
    "    except Exception as e:\n",
    "        print(e.message)\n",
    "        \n",
    "    df = helpers.convert(result,'pandas')\n",
    "    \n",
    "    return df"
   ]
  },
  {
   "cell_type": "code",
   "execution_count": 33,
   "metadata": {
    "collapsed": true
   },
   "outputs": [],
   "source": [
    "# A Mexican-hat convolution filter\n",
    "def dwarf_filter (ra,dec,fwhm_small=2.0,fwhm_big=20):\n",
    "\n",
    "    # Based on Koposov et al. (2008).\n",
    "    # Code by Ken Mighell and Mike Fitzpatrick.\n",
    "    # Minor edits by Rorbert Nikutta.\n",
    "    \n",
    "    x, y = ra, dec\n",
    "\n",
    "    # Information about declination (y) [degrees]\n",
    "    ymean = (y.min() + y.max()) / 2.0\n",
    "    ydiff_arcmin = (y.max() - y.min()) * 60.0 # convert from degrees to arcmin\n",
    "\n",
    "    # Information about right ascension (x) [degrees in time]:\n",
    "    xdiff = x.max() - x.min() # angular separation [degrees (time)] \n",
    "    xmean = (x.min() + x.max())/2.0\n",
    "\n",
    "    # convert from degrees in time to separation in angular degrees:\n",
    "    xdiff_angular = (x.max() - x.min()) * np.cos(ymean*(np.pi/180.0))\n",
    "\n",
    "    # convert from degress to arcmin\n",
    "    xdiff_angular_arcmin = xdiff_angular * 60.0 \n",
    "\n",
    "    # Get the number of one-arcmin pixels in the X and Y directions:\n",
    "    nx = np.rint (xdiff_angular_arcmin).astype('int')\n",
    "    ny = np.rint (ydiff_arcmin).astype('int')\n",
    "    \n",
    "    # Create a two-dimensional histogram of the raw counts:\n",
    "    Counts, xedges, yedges  = np.histogram2d (x, y, (nx,ny) )\n",
    "    extent = [xedges[0], xedges[-1], yedges[0], yedges[-1]]\n",
    "    raw_hist = np.rot90(Counts).copy() # hack around Pythonic weirdness\n",
    "\n",
    "    # Make the small and big Gaussian kernels with a standard deviation\n",
    "    # of the given FWHM in arcmin^2 pixels.\n",
    "    kernel_small = convolution.Gaussian2DKernel(fwhm_small/2.35,factor=1)\n",
    "    kernel_big = convolution.Gaussian2DKernel(fwhm_big/2.35,factor=1)\n",
    "\n",
    "    # Compute the differential convolution kernels.\n",
    "    conv_big = convolution.convolve (raw_hist, kernel_big)\n",
    "    conv_small = convolution.convolve (raw_hist, kernel_small)\n",
    "    conv_delta = conv_small - conv_big\n",
    "    delta = conv_delta.copy()\n",
    "\n",
    "    # Compute statistics and the floor\n",
    "    mean = np.mean (delta, dtype='float64')\n",
    "    sigma = np.std (delta, dtype='float64')\n",
    "    sigmaRaw = np.std(raw_hist,dtype='float64')\n",
    "    median = np.median (delta)                       # not used\n",
    "    floor = mean \n",
    "\n",
    "    # Clip to specified limits.\n",
    "    clipped = delta.copy()\n",
    "    clipped[ delta < floor ] = floor\n",
    "\n",
    "    # Return the computed fields.\n",
    "    return raw_hist, extent, delta, clipped, sigma"
   ]
  },
  {
   "cell_type": "code",
   "execution_count": 34,
   "metadata": {
    "collapsed": true
   },
   "outputs": [],
   "source": [
    "# A little function to download the deepest stacked images\n",
    "#   adapted from R. Nikutta\n",
    "def download_deepest_image(ra,dec,fov=0.1,band='g'):\n",
    "    imgTable = svc.search((ra,dec), (fov/np.cos(dec*np.pi/180), fov), verbosity=2).votable.to_table()\n",
    "    print(\"The full image list contains\", len(imgTable), \"entries\")\n",
    "    \n",
    "    sel0 = imgTable['obs_bandpass'].astype(str)==band\n",
    "    sel = sel0 & ((imgTable['proctype'].astype(str)=='Stacked') & (imgTable['prodtype'].astype(str)=='image')) # basic selection\n",
    "    Table = imgTable[sel] # select\n",
    "    if (len(Table)>0):\n",
    "        row = Table[np.argmax(Table['exptime'].data.data.astype('float'))] # pick image with longest exposure time\n",
    "        url = row['access_url'].decode() # get the download URL\n",
    "        print ('downloading deepest image...')\n",
    "        image = io.fits.getdata(utils.data.download_file(url,cache=True,show_progress=False,timeout=120))\n",
    "\n",
    "    else:\n",
    "        print ('No image available.')\n",
    "        image=None\n",
    "        \n",
    "    return image"
   ]
  },
  {
   "cell_type": "code",
   "execution_count": 35,
   "metadata": {
    "collapsed": false
   },
   "outputs": [],
   "source": [
    "# Multi panel image plotter\n",
    "def plot_images(images,geo=None,panelsize=4,bands=list('gri'),cmap=matplotlib.cm.gray_r):\n",
    "    n = len(images)\n",
    "    if geo is None: geo = (n,1)\n",
    "        \n",
    "    fig = plt.figure(figsize=(geo[0]*panelsize,geo[1]*panelsize))\n",
    "    for j,img in enumerate(images):\n",
    "        ax = fig.add_subplot(geo[1],geo[0],j+1)\n",
    "        if img is not None:\n",
    "            print(img.min(),img.max())\n",
    "            vmin = np.median(img)-2*np.std(img)\n",
    "            vmax = np.median(img)+2*np.std(img)\n",
    "            ax.imshow(img,origin='lower',interpolation='none',cmap=cmap,norm=matplotlib.colors.LogNorm(vmin=vmin, vmax=vmax))\n",
    "            ax.set_title('%s band' % bands[j])\n",
    "            ax.xaxis.set_visible(False)\n",
    "            ax.yaxis.set_visible(False)"
   ]
  },
  {
   "cell_type": "markdown",
   "metadata": {},
   "source": [
    "<a class=\"anchor\" id=\"chapter1\"></a>\n",
    "# Step 1 - Pull the data from NSC object table"
   ]
  },
  {
   "cell_type": "code",
   "execution_count": 92,
   "metadata": {
    "collapsed": true
   },
   "outputs": [],
   "source": [
    "# Locations of Dwarfs from McConnachie et al. (2012), Bechtol et al. (2015) and others\n",
    "#ra = [86.4,260.1,185.43,56.09]\n",
    "#dec = [34.7,-22.2,-31.99,-43.53]\n",
    "#name = ['Draco','Carina','Hya II','Eri II']\n",
    "#radius = 0.85 # degrees\n",
    "#columns = '''ra,dec,gmag,gerr,imag,rmag,zmag,class_star,fwhm'''\n",
    "#df_dict = {dwarf: pd.DataFrame() for dwarf in name}\n",
    "#ra0 = 86.4\n",
    "#dec0 = 34.7\n",
    "#ra0 = 260.1\n",
    "#dec0 = -22.2\n",
    "ra0 = 185.43\n",
    "dec0 = -31.99\n",
    "radius = 1.0"
   ]
  },
  {
   "cell_type": "code",
   "execution_count": 89,
   "metadata": {
    "collapsed": false
   },
   "outputs": [
    {
     "name": "stdout",
     "output_type": "stream",
     "text": [
      "SELECT ra,dec,gmag,rmag FROM nsc_dr1.object\n",
      "       WHERE q3c_radial_query(ra,dec,185.430000,-31.990000,1.000000) and (gmag-rmag)>(-0.200000) and (gmag-rmag)<0.800000 and class_star>0.600000 and fwhm<1.500000 and gerr<0.100000 and rerr<0.100000\n",
      "Returning Pandas dataframe\n",
      "22757 objects found\n"
     ]
    }
   ],
   "source": [
    "#df0 = getData(ra0,dec0,radius=0.01)\n",
    "#print(str(len(df0))+' objects found')\n",
    "df = getBlueStarData(ra0,dec0,radius=radius,colcutlo=-0.2,colcuthi=0.8,classcut=0.6,fwhmcut=1.5,errcut=0.1)\n",
    "print(str(len(df))+' objects found')"
   ]
  },
  {
   "cell_type": "code",
   "execution_count": null,
   "metadata": {
    "collapsed": true
   },
   "outputs": [],
   "source": [
    "# Get coverage information\n"
   ]
  },
  {
   "cell_type": "markdown",
   "metadata": {},
   "source": [
    "# Step 2 - Make density map\n",
    "We convolve the result with the spatial filter defined above."
   ]
  },
  {
   "cell_type": "code",
   "execution_count": 94,
   "metadata": {
    "collapsed": true
   },
   "outputs": [],
   "source": [
    "# Create a WCS for a tangent plane projection in our region\n",
    "def get_wcs(ra,dec,image,fov=1.,unit='deg',projection=(\"RA---TAN\",\"DEC--TAN\")):\n",
    "    npix = image.shape[0]\n",
    "    crpix = npix/2 + 1\n",
    "    cdelt = fov/float(npix)\n",
    "    w = wcs.WCS(naxis=2)\n",
    "    w.wcs.cunit = (unit,unit)\n",
    "    w.wcs.crpix = (crpix,crpix)\n",
    "    w.wcs.cdelt = np.array((-cdelt,cdelt))\n",
    "    w.wcs.ctype = projection\n",
    "    w.wcs.crval = (ra,dec) #coords.ra.to(unit).value, coords.dec.to(unit).value)\n",
    "    return w"
   ]
  },
  {
   "cell_type": "code",
   "execution_count": 101,
   "metadata": {
    "collapsed": false
   },
   "outputs": [
    {
     "data": {
      "text/plain": [
       "<matplotlib.text.Text at 0x113ebb610>"
      ]
     },
     "execution_count": 101,
     "metadata": {},
     "output_type": "execute_result"
    },
    {
     "data": {
      "image/png": "[encoded data removed]",
      "text/plain": [
       "<matplotlib.figure.Figure at 0x113d75790>"
      ]
     },
     "metadata": {},
     "output_type": "display_data"
    }
   ],
   "source": [
    "raw_hist, extent, delta, clipped, sigma = dwarf_filter(df['ra'],df['dec'])\n",
    "#skyPlot(df2,ax)\n",
    "w = get_wcs(ra0,dec0,clipped,fov=radius)\n",
    "fig = plt.figure(figsize=(6,6))\n",
    "#ax = fig.add_subplot(0,0,0,projection=w)\n",
    "im = plt.imshow(clipped)\n",
    "plt.colorbar()\n",
    "plt.title('Density')"
   ]
  },
  {
   "cell_type": "markdown",
   "metadata": {},
   "source": [
    "# Step 3 - Run Peak Finder\n",
    "Find the statistically significant peaks"
   ]
  },
  {
   "cell_type": "code",
   "execution_count": null,
   "metadata": {
    "collapsed": true
   },
   "outputs": [],
   "source": []
  }
 ],
 "metadata": {
  "kernelspec": {
   "display_name": "Python 2",
   "language": "python",
   "name": "python2"
  },
  "language_info": {
   "codemirror_mode": {
    "name": "ipython",
    "version": 2
   },
   "file_extension": ".py",
   "mimetype": "text/x-python",
   "name": "python",
   "nbconvert_exporter": "python",
   "pygments_lexer": "ipython2",
   "version": "2.7.13"
  }
 },
 "nbformat": 4,
 "nbformat_minor": 2
}
